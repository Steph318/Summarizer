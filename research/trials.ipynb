version https://git-lfs.github.com/spec/v1
oid sha256:2fec86c738015fe42d7f1fea1f385fce7719d2247c061714aa8fde4ce3f47204
size 500
