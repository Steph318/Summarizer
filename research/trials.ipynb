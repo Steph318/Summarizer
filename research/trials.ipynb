{
 "cells": [
  {
   "cell_type": "code",
   "execution_count": null,
   "metadata": {},
   "outputs": [],
   "source": []
  }
 ],
 "metadata": {
  "kernelspec": {
   "display_name": "venv",
   "language": "python",
   "name": "python3"
  },
  "language_info": {
   "name": "python",
   "version": "3.10.10"
  },
  "orig_nbformat": 4,
  "vscode": {
   "interpreter": {
    "hash": "7076f06c12f71e625b4723295c393fcd93e08adde55304aee64e77c2997586d7"
   }
  }
 },
 "nbformat": 4,
 "nbformat_minor": 2
}
